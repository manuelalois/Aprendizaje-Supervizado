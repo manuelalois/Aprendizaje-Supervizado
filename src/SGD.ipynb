{
 "cells": [
  {
   "cell_type": "code",
   "execution_count": 3,
   "metadata": {},
   "outputs": [
    {
     "name": "stderr",
     "output_type": "stream",
     "text": [
      "<ipython-input-3-1e9fd325078d>:13: FutureWarning: Passing a negative integer is deprecated in version 1.0 and will not be supported in future version. Instead, use None to not limit the column width.\n",
      "  pd.set_option('display.max_colwidth', -1)\n"
     ]
    }
   ],
   "source": [
    "# Import the required packages\n",
    "import os\n",
    "import seaborn as sns\n",
    "import numpy as np\n",
    "import pandas as pd\n",
    "import matplotlib.pyplot as plt\n",
    "import sklearn\n",
    "from sklearn.utils import resample\n",
    "from IPython.core.interactiveshell import InteractiveShell\n",
    "InteractiveShell.ast_node_interactivity = 'all'\n",
    "pd.set_option('display.max_rows', 20000)\n",
    "pd.set_option('display.max_columns', 20000)\n",
    "pd.set_option('display.max_colwidth', -1)\n",
    "import warnings\n",
    "warnings.filterwarnings(\"ignore\")\n",
    "import datetime"
   ]
  },
  {
   "cell_type": "code",
   "execution_count": 4,
   "metadata": {},
   "outputs": [],
   "source": [
    "def transform_data(train_data_fname, test_data_fname):\n",
    "    df_train = pd.read_csv(train_data_fname)\n",
    "    df_train['is_train_set'] = 1\n",
    "    df_test = pd.read_csv(test_data_fname)\n",
    "    df_test['is_train_set'] = 0\n",
    "    \n",
    "    # Comienzo con los datos de TRAIN\n",
    "    # -------------------------------------------------------------------------\n",
    "    \n",
    "    # Elimino los datos que tienen Nan en el Department Description\n",
    "    clean_df = df_train.dropna(subset=['DepartmentDescription'])\n",
    "\n",
    "    # Los datos que tienen Nan en Upc son todos de Pharmacy RX\n",
    "    # Luego los completo con esos valores, obtenidos por inspección\n",
    "    clean_df.loc[clean_df.Upc.isna(), \"FinelineNumber\"] = 4822\n",
    "    clean_df.loc[clean_df.Upc.isna(), \"Upc\"] = 30169183702\n",
    "    \n",
    "#    unique_tt = df_train.TripType.unique()\n",
    "#    lista_df = []\n",
    "#    for i in unique_tt:\n",
    "#        iterator = clean_df[clean_df.TripType == i]\n",
    "#        max = iterator.Upc.value_counts().idxmax()\n",
    "#        iterator.Upc = max\n",
    "#        lista_df.append(iterator)\n",
    "\n",
    "    unique_vn = df_train.VisitNumber.unique()\n",
    "    lista_df = []\n",
    "    for i in unique_vn:\n",
    "        iterator = clean_df[clean_df.VisitNumber == i]\n",
    "        max = iterator.Upc.max()\n",
    "        iterator.Upc = max\n",
    "        lista_df.append(iterator)\n",
    "\n",
    "\n",
    "    df_total = pd.concat(lista_df)\n",
    "    df_total = df_total.drop([\"FinelineNumber\"], axis=1)\n",
    "    y = df_total.groupby([\"VisitNumber\", \"Weekday\"], as_index=False).max().TripType\n",
    "\n",
    "    df_total = df_total.drop(\"TripType\", axis=1)\n",
    "    \n",
    "    # VISITNUMBER, DEPARTMENT, UPC, WEEKDAY\n",
    "    \n",
    "    #--------------------------------------------------------------------------\n",
    "    \n",
    "    df_test.loc[df_test.DepartmentDescription.isna(), \"Upc\"] = 0\n",
    "    df_test.loc[df_test.Upc.isna(), \"Upc\"] = 30169183702\n",
    "    unique_vn = df_test.VisitNumber.unique()\n",
    "    lista_df = []\n",
    "    for i in unique_vn:\n",
    "        iterator = df_test[df_test.VisitNumber == i]\n",
    "        max = iterator.Upc.max()\n",
    "        iterator.Upc = max\n",
    "        lista_df.append(iterator)\n",
    "\n",
    "    test_total = pd.concat(lista_df)\n",
    "    \n",
    "    test_total = test_total.drop([\"FinelineNumber\"], axis=1)\n",
    "    \n",
    "    # VISITNUMBER, DEPARTMENT, UPC, WEEKDAY\n",
    "    \n",
    "    temp_concat = pd.concat([df_total, test_total])\n",
    "    temp_concat = pd.get_dummies(temp_concat, columns=[\"DepartmentDescription\"], dummy_na=True)\n",
    "    temp_concat = temp_concat.groupby([\"VisitNumber\", \"Weekday\", \"Upc\"], as_index=False).sum()\n",
    "    \n",
    "    temp_concat = pd.get_dummies(temp_concat, columns=[\"Weekday\"], dummy_na=True)\n",
    "    \n",
    "    df_train = temp_concat[temp_concat.is_train_set != 0]\n",
    "    df_test = temp_concat[temp_concat.is_train_set == 0]\n",
    "\n",
    "    X = df_train.drop([\"is_train_set\"], axis=1)\n",
    "    yy = None\n",
    "    XX = df_test.drop([\"is_train_set\"], axis=1)\n",
    "\n",
    "\n",
    "    return X, y, XX, yy"
   ]
  },
  {
   "cell_type": "code",
   "execution_count": 5,
   "metadata": {},
   "outputs": [],
   "source": [
    "X, y, XX, yy = transform_data(\"../data/train.csv\", \"../data/test.csv\")"
   ]
  },
  {
   "cell_type": "code",
   "execution_count": 6,
   "metadata": {},
   "outputs": [],
   "source": [
    "from sklearn.model_selection import train_test_split\n",
    "X_train, X_valid, y_train, y_valid = train_test_split(X, y, test_size=0.3, random_state=42)"
   ]
  },
  {
   "cell_type": "code",
   "execution_count": 7,
   "metadata": {},
   "outputs": [],
   "source": [
    "results = pd.DataFrame(columns=('clf', 'best_acc'))"
   ]
  },
  {
   "cell_type": "code",
   "execution_count": 13,
   "metadata": {},
   "outputs": [
    {
     "data": {
      "text/plain": [
       "GridSearchCV(cv=5, estimator=SGDClassifier(),\n",
       "             param_grid={'alpha': [0.0001], 'penalty': ['l2']})"
      ]
     },
     "execution_count": 13,
     "metadata": {},
     "output_type": "execute_result"
    }
   ],
   "source": [
    "from sklearn.linear_model import SGDClassifier\n",
    "from sklearn.preprocessing import StandardScaler\n",
    "from sklearn.pipeline import make_pipeline\n",
    "from sklearn.model_selection import GridSearchCV\n",
    "from sklearn.metrics import accuracy_score\n",
    "\n",
    "sgdc = SGDClassifier()\n",
    "\n",
    "sgdc_params = {\n",
    "  #  'loss':['log','hinge','perceptron'],\n",
    "    'penalty':['l2'],\n",
    "    'alpha':[0.0001]\n",
    "}\n",
    "\n",
    "sgdc_gs = GridSearchCV(sgdc, sgdc_params, cv=5)#, verbose=1, n_jobs=1)\n",
    "\n",
    "#Here I fit the model to my dataset\n",
    "sgdc_gs.fit(X_train, y_train)\n",
    "\n",
    "best_sgd = sgdc_gs.best_estimator_"
   ]
  },
  {
   "cell_type": "code",
   "execution_count": 14,
   "metadata": {},
   "outputs": [
    {
     "name": "stdout",
     "output_type": "stream",
     "text": [
      "Best SGDC accuracy:  0.025576300514652178\n",
      "SGDClassifier()\n",
      "The best classifier so far is: \n",
      "SGDClassifier(alpha=0.001, penalty='l1')\n"
     ]
    }
   ],
   "source": [
    "print('Best SGDC accuracy: ', sgdc_gs.best_score_)\n",
    "print(best_sgd)\n",
    "results = results.append({'clf': best_sgd, 'best_acc': sgdc_gs.best_score_}, ignore_index=True)\n",
    "\n",
    "print('The best classifier so far is: ')\n",
    "print(results.loc[results['best_acc'].idxmax()]['clf'])"
   ]
  },
  {
   "cell_type": "code",
   "execution_count": 11,
   "metadata": {},
   "outputs": [
    {
     "data": {
      "text/plain": [
       "((66917, 80), (28645, 80))"
      ]
     },
     "execution_count": 11,
     "metadata": {},
     "output_type": "execute_result"
    }
   ],
   "source": [
    "X.shape, XX.shape"
   ]
  },
  {
   "cell_type": "code",
   "execution_count": 12,
   "metadata": {},
   "outputs": [],
   "source": [
    "yy = results.clf.iloc[0].predict(XX)"
   ]
  },
  {
   "cell_type": "code",
   "execution_count": null,
   "metadata": {},
   "outputs": [],
   "source": [
    "submission = pd.DataFrame(list(zip(XX.VisitNumber, yy)), columns=[\"VisitNumber\", \"TripType\"])"
   ]
  },
  {
   "cell_type": "code",
   "execution_count": null,
   "metadata": {},
   "outputs": [],
   "source": [
    "submission.to_csv(\"submission_sgd.csv\", header=True, index=False)"
   ]
  }
 ],
 "metadata": {
  "kernelspec": {
   "display_name": "Python [conda env:mentoria] *",
   "language": "python",
   "name": "conda-env-mentoria-py"
  },
  "language_info": {
   "codemirror_mode": {
    "name": "ipython",
    "version": 3
   },
   "file_extension": ".py",
   "mimetype": "text/x-python",
   "name": "python",
   "nbconvert_exporter": "python",
   "pygments_lexer": "ipython3",
   "version": "3.8.3"
  }
 },
 "nbformat": 4,
 "nbformat_minor": 4
}
