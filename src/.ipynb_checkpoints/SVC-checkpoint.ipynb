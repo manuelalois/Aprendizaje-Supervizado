{
 "cells": [
  {
   "cell_type": "code",
   "execution_count": 1,
   "metadata": {},
   "outputs": [
    {
     "name": "stderr",
     "output_type": "stream",
     "text": [
      "<ipython-input-1-1e9fd325078d>:13: FutureWarning: Passing a negative integer is deprecated in version 1.0 and will not be supported in future version. Instead, use None to not limit the column width.\n",
      "  pd.set_option('display.max_colwidth', -1)\n"
     ]
    }
   ],
   "source": [
    "# Import the required packages\n",
    "import os\n",
    "import seaborn as sns\n",
    "import numpy as np\n",
    "import pandas as pd\n",
    "import matplotlib.pyplot as plt\n",
    "import sklearn\n",
    "from sklearn.utils import resample\n",
    "from IPython.core.interactiveshell import InteractiveShell\n",
    "InteractiveShell.ast_node_interactivity = 'all'\n",
    "pd.set_option('display.max_rows', 20000)\n",
    "pd.set_option('display.max_columns', 20000)\n",
    "pd.set_option('display.max_colwidth', -1)\n",
    "import warnings\n",
    "warnings.filterwarnings(\"ignore\")\n",
    "import datetime"
   ]
  },
  {
   "cell_type": "code",
   "execution_count": 2,
   "metadata": {},
   "outputs": [],
   "source": [
    "def transform_data(train_data_fname, test_data_fname):\n",
    "    df_train = pd.read_csv(train_data_fname)\n",
    "    df_train['is_train_set'] = 1\n",
    "    df_test = pd.read_csv(test_data_fname)\n",
    "    df_test['is_train_set'] = 0\n",
    "    \n",
    "    # Comienzo con los datos de TRAIN\n",
    "    # -------------------------------------------------------------------------\n",
    "    \n",
    "    # Elimino los datos que tienen Nan en el Department Description\n",
    "    clean_df = df_train.dropna(subset=['DepartmentDescription'])\n",
    "\n",
    "    # Los datos que tienen Nan en Upc son todos de Pharmacy RX\n",
    "    # Luego los completo con esos valores, obtenidos por inspección\n",
    "    clean_df.loc[clean_df.Upc.isna(), \"FinelineNumber\"] = 4822\n",
    "    clean_df.loc[clean_df.Upc.isna(), \"Upc\"] = 30169183702\n",
    "    \n",
    "#    unique_tt = df_train.TripType.unique()\n",
    "#    lista_df = []\n",
    "#    for i in unique_tt:\n",
    "#        iterator = clean_df[clean_df.TripType == i]\n",
    "#        max = iterator.Upc.value_counts().idxmax()\n",
    "#        iterator.Upc = max\n",
    "#        lista_df.append(iterator)\n",
    "\n",
    "    unique_vn = df_train.VisitNumber.unique()\n",
    "    lista_df = []\n",
    "    for i in unique_vn:\n",
    "        iterator = clean_df[clean_df.VisitNumber == i]\n",
    "        max = iterator.Upc.max()\n",
    "        iterator.Upc = max\n",
    "        lista_df.append(iterator)\n",
    "\n",
    "\n",
    "    df_total = pd.concat(lista_df)\n",
    "    df_total = df_total.drop([\"FinelineNumber\"], axis=1)\n",
    "    y = df_total.groupby([\"VisitNumber\", \"Weekday\"], as_index=False).max().TripType\n",
    "\n",
    "    df_total = df_total.drop(\"TripType\", axis=1)\n",
    "    \n",
    "    # VISITNUMBER, DEPARTMENT, UPC, WEEKDAY\n",
    "    \n",
    "    #--------------------------------------------------------------------------\n",
    "    \n",
    "    df_test.loc[df_test.DepartmentDescription.isna(), \"Upc\"] = 0\n",
    "    df_test.loc[df_test.Upc.isna(), \"Upc\"] = 30169183702\n",
    "    unique_vn = df_test.VisitNumber.unique()\n",
    "    lista_df = []\n",
    "    for i in unique_vn:\n",
    "        iterator = df_test[df_test.VisitNumber == i]\n",
    "        max = iterator.Upc.max()\n",
    "        iterator.Upc = max\n",
    "        lista_df.append(iterator)\n",
    "\n",
    "    test_total = pd.concat(lista_df)\n",
    "    \n",
    "    test_total = test_total.drop([\"FinelineNumber\"], axis=1)\n",
    "    \n",
    "    # VISITNUMBER, DEPARTMENT, UPC, WEEKDAY\n",
    "    \n",
    "    temp_concat = pd.concat([df_total, test_total])\n",
    "    temp_concat = pd.get_dummies(temp_concat, columns=[\"DepartmentDescription\"], dummy_na=True)\n",
    "    temp_concat = temp_concat.groupby([\"VisitNumber\", \"Weekday\", \"Upc\"], as_index=False).sum()\n",
    "    temp_concat.loc[temp_concat.ScanCount<0, \"ScanCount\"] = 0\n",
    "    \n",
    "    temp_concat = pd.get_dummies(temp_concat, columns=[\"Weekday\"], dummy_na=True)\n",
    "    \n",
    "    df_train = temp_concat[temp_concat.is_train_set != 0]\n",
    "    df_test = temp_concat[temp_concat.is_train_set == 0]\n",
    "\n",
    "    X = df_train.drop([\"is_train_set\"], axis=1)\n",
    "    yy = None\n",
    "    XX = df_test.drop([\"is_train_set\"], axis=1)\n",
    "\n",
    "\n",
    "    return X, y, XX, yy"
   ]
  },
  {
   "cell_type": "code",
   "execution_count": 3,
   "metadata": {},
   "outputs": [],
   "source": [
    "X, y, XX, yy = transform_data(\"../data/train.csv\", \"../data/test.csv\")"
   ]
  },
  {
   "cell_type": "code",
   "execution_count": 4,
   "metadata": {},
   "outputs": [],
   "source": [
    "from sklearn.model_selection import train_test_split\n",
    "X_train, X_valid, y_train, y_valid = train_test_split(X, y, test_size=0.3, random_state=42)"
   ]
  },
  {
   "cell_type": "code",
   "execution_count": 5,
   "metadata": {},
   "outputs": [],
   "source": [
    "from sklearn.linear_model import SGDClassifier\n",
    "from sklearn.preprocessing import StandardScaler\n",
    "from sklearn.pipeline import make_pipeline\n",
    "from sklearn.model_selection import GridSearchCV\n",
    "from sklearn.metrics import accuracy_score\n",
    "from sklearn.naive_bayes import MultinomialNB\n",
    "\n",
    "clf = MultinomialNB().fit(X_train, y_train)"
   ]
  },
  {
   "cell_type": "code",
   "execution_count": 7,
   "metadata": {},
   "outputs": [
    {
     "name": "stdout",
     "output_type": "stream",
     "text": [
      "              precision    recall  f1-score   support\n",
      "\n",
      "           3       0.33      0.01      0.02       785\n",
      "           4       0.00      0.04      0.01        82\n",
      "           5       0.09      0.01      0.03       935\n",
      "           6       0.02      0.03      0.03       260\n",
      "           7       0.07      0.08      0.08      1173\n",
      "           8       0.29      0.68      0.40      2525\n",
      "           9       0.18      0.01      0.01      2038\n",
      "          12       0.01      0.03      0.01        65\n",
      "          14       0.00      1.00      0.00         1\n",
      "          15       0.04      0.05      0.05       205\n",
      "          18       0.01      0.02      0.01       126\n",
      "          19       0.01      0.01      0.01        91\n",
      "          20       0.02      0.01      0.01       115\n",
      "          21       0.01      0.02      0.01       142\n",
      "          22       0.06      0.02      0.03       198\n",
      "          23       0.00      0.00      0.00        25\n",
      "          24       0.04      0.01      0.02       538\n",
      "          25       0.09      0.20      0.12       741\n",
      "          26       0.00      0.00      0.00        94\n",
      "          27       0.05      0.03      0.03       177\n",
      "          28       0.01      0.01      0.01        79\n",
      "          29       0.01      0.01      0.01        87\n",
      "          30       0.01      0.01      0.01       220\n",
      "          31       0.04      0.02      0.03       123\n",
      "          32       0.02      0.02      0.02       401\n",
      "          33       0.01      0.03      0.01       280\n",
      "          34       0.10      0.01      0.01       168\n",
      "          35       0.02      0.05      0.03       451\n",
      "          36       0.11      0.02      0.03       612\n",
      "          37       0.10      0.02      0.03       647\n",
      "          38       0.03      0.04      0.03       605\n",
      "          39       0.17      0.01      0.03      2109\n",
      "          40       0.16      0.03      0.06      1305\n",
      "          41       0.01      0.03      0.01       123\n",
      "          42       0.02      0.01      0.01       386\n",
      "          43       0.02      0.04      0.03       192\n",
      "          44       0.03      0.03      0.03       240\n",
      "         999       0.11      0.02      0.03      1732\n",
      "\n",
      "    accuracy                           0.11     20076\n",
      "   macro avg       0.06      0.07      0.03     20076\n",
      "weighted avg       0.13      0.11      0.08     20076\n",
      "\n"
     ]
    }
   ],
   "source": [
    "from sklearn.metrics import classification_report\n",
    "\n",
    "print(classification_report(y_valid, clf.predict(X_valid)))"
   ]
  },
  {
   "cell_type": "code",
   "execution_count": 16,
   "metadata": {},
   "outputs": [
    {
     "data": {
      "text/plain": [
       "((66917, 80), (28645, 80))"
      ]
     },
     "execution_count": 16,
     "metadata": {},
     "output_type": "execute_result"
    }
   ],
   "source": [
    "X.shape, XX.shape"
   ]
  },
  {
   "cell_type": "code",
   "execution_count": 17,
   "metadata": {},
   "outputs": [],
   "source": [
    "yy = results.clf.iloc[0].predict(XX)"
   ]
  },
  {
   "cell_type": "code",
   "execution_count": 18,
   "metadata": {},
   "outputs": [],
   "source": [
    "submission = pd.DataFrame(list(zip(XX.VisitNumber, yy)), columns=[\"VisitNumber\", \"TripType\"])"
   ]
  },
  {
   "cell_type": "code",
   "execution_count": 19,
   "metadata": {},
   "outputs": [],
   "source": [
    "submission.to_csv(\"submission_sgd.csv\", header=True, index=False)"
   ]
  },
  {
   "cell_type": "code",
   "execution_count": null,
   "metadata": {},
   "outputs": [],
   "source": []
  }
 ],
 "metadata": {
  "kernelspec": {
   "display_name": "Python [conda env:mentoria] *",
   "language": "python",
   "name": "conda-env-mentoria-py"
  },
  "language_info": {
   "codemirror_mode": {
    "name": "ipython",
    "version": 3
   },
   "file_extension": ".py",
   "mimetype": "text/x-python",
   "name": "python",
   "nbconvert_exporter": "python",
   "pygments_lexer": "ipython3",
   "version": "3.8.3"
  }
 },
 "nbformat": 4,
 "nbformat_minor": 4
}
